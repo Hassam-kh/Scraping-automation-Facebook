{
 "cells": [
  {
   "cell_type": "code",
   "execution_count": 37,
   "metadata": {},
   "outputs": [],
   "source": [
    "import os\n",
    "import time\n",
    "import pandas as pd\n",
    "from selenium import webdriver\n",
    "from selenium.webdriver.common.by import By\n",
    "from selenium.webdriver.chrome.service import Service\n",
    "from webdriver_manager.chrome import ChromeDriverManager\n",
    "\n",
    "# -------------------------------------------------------------------------------------------------------------------------------\n",
    "\n",
    "# Read the CSV file\n",
    "df = pd.read_csv(\"information.csv\")\n",
    "path = os.getcwd()\n",
    "\n",
    "# -------------------------------------------------------------------------------------------------------------------------------\n",
    "\n",
    "# Access the email and password columns\n",
    "emails = df[\"Email\"]\n",
    "passwords = df[\"Password\"]\n",
    "title = df[\"Title\"][0]\n",
    "price = df[\"Price\"][0]\n",
    "tags = df[\"Tags\"]\n",
    "description = df[\"Description\"][0]\n",
    "locations = df[\"Postcodes\"]\n",
    "# print (description[0])\n",
    "url = 'http://www.facebook.com'"
   ]
  },
  {
   "cell_type": "code",
   "execution_count": 38,
   "metadata": {},
   "outputs": [],
   "source": [
    "\n",
    "# Initialize Selenium driver\n",
    "def get_driver():\n",
    "    options = webdriver.ChromeOptions()\n",
    "    options.add_argument(\"--disable-notifications\")  # Disable notification popups\n",
    "    # options.add_argument(\"--headless\")  # Uncomment for headless mode\n",
    "    service = Service(ChromeDriverManager().install())\n",
    "    driver = webdriver.Chrome(service=service, options=options)\n",
    "    driver.get(url)\n",
    "    time.sleep(5)\n",
    "    driver.maximize_window()\n",
    "    time.sleep(2)\n",
    "    return driver\n",
    "\n",
    "# -------------------------------------------------------------------------------------------------------------------------------\n",
    "\n",
    "driver = get_driver()\n",
    "\n",
    "# -------------------------------------------------------------------------------------------------------------------------------\n"
   ]
  },
  {
   "cell_type": "code",
   "execution_count": 3,
   "metadata": {},
   "outputs": [],
   "source": [
    "# -------------------------------------------------------------------------------------------------------------------------------\n",
    "\n",
    "def run_script(driver, images_path, title, price, tags, description, location):\n",
    "    time.sleep(3)\n",
    "    driver.get(\"https://www.facebook.com/marketplace/create/item\")\n",
    "    time.sleep(5)\n",
    "    s = driver.find_element(\"xpath\",\"//input[@type='file']\")\n",
    "    s.send_keys(images_path)\n",
    "    time.sleep(8)\n",
    "    list_input = driver.find_elements(By.XPATH, \"//input[@type='text']\") #.send_keys(title)\n",
    "    print(\"\\n Number of input feilds: \", len(list_input))\n",
    "    if len(list_input) >= 2:\n",
    "        list_input[0].send_keys(title)\n",
    "        time.sleep(2)\n",
    "        list_input[0].click()\n",
    "        time.sleep(2)\n",
    "        \n",
    "        list_input[1].send_keys(str(price))\n",
    "        time.sleep(2)\n",
    "    else:\n",
    "        print(\"Error: Input fields not found\")\n",
    "    list_dropdown = driver.find_elements(By.XPATH, \"//label[@aria-labelledby]\")\n",
    "    if len(list_dropdown) >= 2:\n",
    "        list_dropdown[0].click()\n",
    "        time.sleep(2)\n",
    "        driver.find_element(By.XPATH, \"//span[text()='Furniture']\").click()\n",
    "        time.sleep(2)\n",
    "        list_dropdown[1].click()\n",
    "        time.sleep(2)\n",
    "        driver.find_element(By.XPATH, \"//span[text()='New']\").click()\n",
    "        time.sleep(2)\n",
    "    else:\n",
    "        print(\"Error: Dropdown fields not found\")\n",
    "    # driver.close()\n",
    "    return\n",
    "\n",
    "# -------------------------------------------------------------------------------------------------------------------------------\n"
   ]
  },
  {
   "cell_type": "code",
   "execution_count": 39,
   "metadata": {},
   "outputs": [],
   "source": [
    "\n",
    "for idx, i in enumerate(emails):\n",
    "    try:\n",
    "        # Log in to Facebook\n",
    "        driver.find_element(By.CSS_SELECTOR, \"[aria-label='Email address or phone number']\").send_keys(i)\n",
    "        time.sleep(2)\n",
    "        driver.find_element(By.CSS_SELECTOR, \"[aria-label='Password']\").send_keys(passwords[idx])\n",
    "        time.sleep(2)\n",
    "        driver.find_element(By.NAME, \"login\").click()\n",
    "        time.sleep(10)\n",
    "    except Exception as e:\n",
    "        print(\"\\nWrong credientials\\n\")\n",
    "        print(e)\n",
    "\n",
    "# -------------------------------------------------------------------------------------------------------------------------------\n",
    "\n",
    "    # # Get all file names in the \"images\" folder\n",
    "    # image_files = os.listdir(\"images\")\n",
    "    # for i in image_files:\n",
    "    #     images_path = path + \"/images/\" + i\n",
    "    #     print(images_path)\n",
    "    #     time.sleep(2)\n",
    "    #     try:\n",
    "    #         run_script(driver, images_path, title, price, tags, description, locations)\n",
    "    #     except Exception as e:\n",
    "    #         print(\"Failed: image_path: \", images_path)\n",
    "    #         print(e)\n"
   ]
  },
  {
   "cell_type": "code",
   "execution_count": 40,
   "metadata": {},
   "outputs": [],
   "source": [
    "\n",
    "driver.get(\"https://www.facebook.com/marketplace/create/item\")"
   ]
  },
  {
   "cell_type": "code",
   "execution_count": 11,
   "metadata": {},
   "outputs": [
    {
     "name": "stdout",
     "output_type": "stream",
     "text": [
      "<selenium.webdriver.remote.webelement.WebElement (session=\"5765584f6d91a30502ba2a0d21f2cb34\", element=\"f.241BF72DE0E11B8E45BCA38D990D9690.d.45D5E7D976D1A98AC03D0916C558A956.e.1353\")>\n"
     ]
    }
   ],
   "source": [
    "x = driver.find_element(By.CSS_SELECTOR,\"[aria-label='Select an option']\")\n",
    "print(x)"
   ]
  },
  {
   "cell_type": "code",
   "execution_count": 13,
   "metadata": {},
   "outputs": [],
   "source": [
    "new_option_parent = driver.find_element(By.XPATH, \"//span[text()='New']/ancestor::div[@role='option']\")\n",
    "new_option_parent.click()\n"
   ]
  },
  {
   "cell_type": "code",
   "execution_count": 5,
   "metadata": {},
   "outputs": [
    {
     "name": "stdout",
     "output_type": "stream",
     "text": [
      "\n",
      " Number of dropdowns:  2\n"
     ]
    }
   ],
   "source": [
    "\n",
    "list_dropdown = driver.find_elements(By.XPATH, \"//label[@aria-labelledby]\")\n",
    "print(\"\\n Number of dropdowns: \", len(list_dropdown))"
   ]
  },
  {
   "cell_type": "code",
   "execution_count": 10,
   "metadata": {},
   "outputs": [],
   "source": [
    "list_dropdown[0].click()"
   ]
  },
  {
   "cell_type": "code",
   "execution_count": 7,
   "metadata": {},
   "outputs": [],
   "source": [
    "category_button = driver.find_element(By.XPATH, \"//span[contains(text(), 'Category')]\")\n"
   ]
  },
  {
   "cell_type": "code",
   "execution_count": 18,
   "metadata": {},
   "outputs": [],
   "source": [
    "driver.find_element(By.XPATH, \"//span[text()='Description']/following::textarea[1]\").send_keys(\"This is a test description\")"
   ]
  },
  {
   "cell_type": "code",
   "execution_count": 19,
   "metadata": {},
   "outputs": [],
   "source": [
    "driver.find_element(By.XPATH, \"//span[text()='Product tags']/following::textarea[1]\").send_keys(\"This is a test description\")"
   ]
  },
  {
   "cell_type": "code",
   "execution_count": 28,
   "metadata": {},
   "outputs": [
    {
     "ename": "ElementClickInterceptedException",
     "evalue": "Message: element click intercepted: Element <span class=\"x1jchvi3 x1fcty0u x132q4wb x193iq5w x1al4vs7 xmper1u x1lliihq x16q8cke x6ikm8r x10wlt62 x47corl x10l6tqk xlyipyv xoyzfg9 x1k90msu x11xpdln x1qfuztq xuxw1ft xi81zsa x19c1rep x1cab348\" id=\"«r3a»\">...</span> is not clickable at point (91, 506). Other element would receive the click: <input class=\"x1i10hfl xggy1nq xtpw4lu x1tutvks x1s3xk63 x1s07b3s x1kdt53j x1a2a7pz xjbqb8w x1ejq31n xd10rxx x1sy0etr x17r0tee x9f619 xzsf02u x1uxerd5 x1fcty0u x132q4wb x1a8lsjc x1pi30zi x1swvt13 x9desvi xh8yej3\" dir=\"ltr\" autocomplete=\"off\" id=\"«r39»\" aria-autocomplete=\"list\" aria-expanded=\"false\" aria-label=\"Location\" role=\"combobox\" type=\"text\" value=\"Singapore\">\n  (Session info: chrome=134.0.6998.88)\nStacktrace:\n#0 0x5cb9594b7a1a <unknown>\n#1 0x5cb958f6f390 <unknown>\n#2 0x5cb958fc7afc <unknown>\n#3 0x5cb958fc595c <unknown>\n#4 0x5cb958fc2ff2 <unknown>\n#5 0x5cb958fc26f0 <unknown>\n#6 0x5cb958fb4e0d <unknown>\n#7 0x5cb958fe6bd2 <unknown>\n#8 0x5cb958fb478a <unknown>\n#9 0x5cb958fe6d9e <unknown>\n#10 0x5cb95900d07b <unknown>\n#11 0x5cb958fe69a3 <unknown>\n#12 0x5cb958fb260e <unknown>\n#13 0x5cb958fb3dd1 <unknown>\n#14 0x5cb95947dddb <unknown>\n#15 0x5cb959481cbc <unknown>\n#16 0x5cb959465392 <unknown>\n#17 0x5cb959482834 <unknown>\n#18 0x5cb9594491ef <unknown>\n#19 0x5cb9594a6038 <unknown>\n#20 0x5cb9594a6216 <unknown>\n#21 0x5cb9594b6896 <unknown>\n#22 0x746740294ac3 <unknown>\n",
     "output_type": "error",
     "traceback": [
      "\u001b[31m---------------------------------------------------------------------------\u001b[39m",
      "\u001b[31mElementClickInterceptedException\u001b[39m          Traceback (most recent call last)",
      "\u001b[36mCell\u001b[39m\u001b[36m \u001b[39m\u001b[32mIn[28]\u001b[39m\u001b[32m, line 2\u001b[39m\n\u001b[32m      1\u001b[39m location_label = driver.find_element(By.XPATH, \u001b[33m\"\u001b[39m\u001b[33m//span[contains(text(), \u001b[39m\u001b[33m'\u001b[39m\u001b[33mLocation\u001b[39m\u001b[33m'\u001b[39m\u001b[33m)]\u001b[39m\u001b[33m\"\u001b[39m)\n\u001b[32m----> \u001b[39m\u001b[32m2\u001b[39m \u001b[43mlocation_label\u001b[49m\u001b[43m.\u001b[49m\u001b[43mclick\u001b[49m\u001b[43m(\u001b[49m\u001b[43m)\u001b[49m\n",
      "\u001b[36mFile \u001b[39m\u001b[32m~/anaconda3/envs/testing-env/lib/python3.11/site-packages/selenium/webdriver/remote/webelement.py:119\u001b[39m, in \u001b[36mWebElement.click\u001b[39m\u001b[34m(self)\u001b[39m\n\u001b[32m    111\u001b[39m \u001b[38;5;28;01mdef\u001b[39;00m\u001b[38;5;250m \u001b[39m\u001b[34mclick\u001b[39m(\u001b[38;5;28mself\u001b[39m) -> \u001b[38;5;28;01mNone\u001b[39;00m:\n\u001b[32m    112\u001b[39m \u001b[38;5;250m    \u001b[39m\u001b[33;03m\"\"\"Clicks the element.\u001b[39;00m\n\u001b[32m    113\u001b[39m \n\u001b[32m    114\u001b[39m \u001b[33;03m    Example:\u001b[39;00m\n\u001b[32m   (...)\u001b[39m\u001b[32m    117\u001b[39m \u001b[33;03m    >>> element.click()\u001b[39;00m\n\u001b[32m    118\u001b[39m \u001b[33;03m    \"\"\"\u001b[39;00m\n\u001b[32m--> \u001b[39m\u001b[32m119\u001b[39m     \u001b[38;5;28;43mself\u001b[39;49m\u001b[43m.\u001b[49m\u001b[43m_execute\u001b[49m\u001b[43m(\u001b[49m\u001b[43mCommand\u001b[49m\u001b[43m.\u001b[49m\u001b[43mCLICK_ELEMENT\u001b[49m\u001b[43m)\u001b[49m\n",
      "\u001b[36mFile \u001b[39m\u001b[32m~/anaconda3/envs/testing-env/lib/python3.11/site-packages/selenium/webdriver/remote/webelement.py:572\u001b[39m, in \u001b[36mWebElement._execute\u001b[39m\u001b[34m(self, command, params)\u001b[39m\n\u001b[32m    570\u001b[39m     params = {}\n\u001b[32m    571\u001b[39m params[\u001b[33m\"\u001b[39m\u001b[33mid\u001b[39m\u001b[33m\"\u001b[39m] = \u001b[38;5;28mself\u001b[39m._id\n\u001b[32m--> \u001b[39m\u001b[32m572\u001b[39m \u001b[38;5;28;01mreturn\u001b[39;00m \u001b[38;5;28;43mself\u001b[39;49m\u001b[43m.\u001b[49m\u001b[43m_parent\u001b[49m\u001b[43m.\u001b[49m\u001b[43mexecute\u001b[49m\u001b[43m(\u001b[49m\u001b[43mcommand\u001b[49m\u001b[43m,\u001b[49m\u001b[43m \u001b[49m\u001b[43mparams\u001b[49m\u001b[43m)\u001b[49m\n",
      "\u001b[36mFile \u001b[39m\u001b[32m~/anaconda3/envs/testing-env/lib/python3.11/site-packages/selenium/webdriver/remote/webdriver.py:429\u001b[39m, in \u001b[36mWebDriver.execute\u001b[39m\u001b[34m(self, driver_command, params)\u001b[39m\n\u001b[32m    427\u001b[39m response = \u001b[38;5;28mself\u001b[39m.command_executor.execute(driver_command, params)\n\u001b[32m    428\u001b[39m \u001b[38;5;28;01mif\u001b[39;00m response:\n\u001b[32m--> \u001b[39m\u001b[32m429\u001b[39m     \u001b[38;5;28;43mself\u001b[39;49m\u001b[43m.\u001b[49m\u001b[43merror_handler\u001b[49m\u001b[43m.\u001b[49m\u001b[43mcheck_response\u001b[49m\u001b[43m(\u001b[49m\u001b[43mresponse\u001b[49m\u001b[43m)\u001b[49m\n\u001b[32m    430\u001b[39m     response[\u001b[33m\"\u001b[39m\u001b[33mvalue\u001b[39m\u001b[33m\"\u001b[39m] = \u001b[38;5;28mself\u001b[39m._unwrap_value(response.get(\u001b[33m\"\u001b[39m\u001b[33mvalue\u001b[39m\u001b[33m\"\u001b[39m, \u001b[38;5;28;01mNone\u001b[39;00m))\n\u001b[32m    431\u001b[39m     \u001b[38;5;28;01mreturn\u001b[39;00m response\n",
      "\u001b[36mFile \u001b[39m\u001b[32m~/anaconda3/envs/testing-env/lib/python3.11/site-packages/selenium/webdriver/remote/errorhandler.py:232\u001b[39m, in \u001b[36mErrorHandler.check_response\u001b[39m\u001b[34m(self, response)\u001b[39m\n\u001b[32m    230\u001b[39m         alert_text = value[\u001b[33m\"\u001b[39m\u001b[33malert\u001b[39m\u001b[33m\"\u001b[39m].get(\u001b[33m\"\u001b[39m\u001b[33mtext\u001b[39m\u001b[33m\"\u001b[39m)\n\u001b[32m    231\u001b[39m     \u001b[38;5;28;01mraise\u001b[39;00m exception_class(message, screen, stacktrace, alert_text)  \u001b[38;5;66;03m# type: ignore[call-arg]  # mypy is not smart enough here\u001b[39;00m\n\u001b[32m--> \u001b[39m\u001b[32m232\u001b[39m \u001b[38;5;28;01mraise\u001b[39;00m exception_class(message, screen, stacktrace)\n",
      "\u001b[31mElementClickInterceptedException\u001b[39m: Message: element click intercepted: Element <span class=\"x1jchvi3 x1fcty0u x132q4wb x193iq5w x1al4vs7 xmper1u x1lliihq x16q8cke x6ikm8r x10wlt62 x47corl x10l6tqk xlyipyv xoyzfg9 x1k90msu x11xpdln x1qfuztq xuxw1ft xi81zsa x19c1rep x1cab348\" id=\"«r3a»\">...</span> is not clickable at point (91, 506). Other element would receive the click: <input class=\"x1i10hfl xggy1nq xtpw4lu x1tutvks x1s3xk63 x1s07b3s x1kdt53j x1a2a7pz xjbqb8w x1ejq31n xd10rxx x1sy0etr x17r0tee x9f619 xzsf02u x1uxerd5 x1fcty0u x132q4wb x1a8lsjc x1pi30zi x1swvt13 x9desvi xh8yej3\" dir=\"ltr\" autocomplete=\"off\" id=\"«r39»\" aria-autocomplete=\"list\" aria-expanded=\"false\" aria-label=\"Location\" role=\"combobox\" type=\"text\" value=\"Singapore\">\n  (Session info: chrome=134.0.6998.88)\nStacktrace:\n#0 0x5cb9594b7a1a <unknown>\n#1 0x5cb958f6f390 <unknown>\n#2 0x5cb958fc7afc <unknown>\n#3 0x5cb958fc595c <unknown>\n#4 0x5cb958fc2ff2 <unknown>\n#5 0x5cb958fc26f0 <unknown>\n#6 0x5cb958fb4e0d <unknown>\n#7 0x5cb958fe6bd2 <unknown>\n#8 0x5cb958fb478a <unknown>\n#9 0x5cb958fe6d9e <unknown>\n#10 0x5cb95900d07b <unknown>\n#11 0x5cb958fe69a3 <unknown>\n#12 0x5cb958fb260e <unknown>\n#13 0x5cb958fb3dd1 <unknown>\n#14 0x5cb95947dddb <unknown>\n#15 0x5cb959481cbc <unknown>\n#16 0x5cb959465392 <unknown>\n#17 0x5cb959482834 <unknown>\n#18 0x5cb9594491ef <unknown>\n#19 0x5cb9594a6038 <unknown>\n#20 0x5cb9594a6216 <unknown>\n#21 0x5cb9594b6896 <unknown>\n#22 0x746740294ac3 <unknown>\n"
     ]
    }
   ],
   "source": [
    "location_label = driver.find_element(By.XPATH, \"//span[contains(text(), 'Location')]\")\n",
    "location_label.click()"
   ]
  },
  {
   "cell_type": "code",
   "execution_count": 32,
   "metadata": {},
   "outputs": [],
   "source": [
    "location_input = driver.find_element(By.XPATH, \"//input[@aria-label='Location']\")\n",
    "location_input.send_keys(\"London\")"
   ]
  },
  {
   "cell_type": "code",
   "execution_count": 33,
   "metadata": {},
   "outputs": [],
   "source": [
    "\n",
    "from selenium.webdriver.common.keys import Keys\n",
    "location_input.send_keys(Keys.RETURN)"
   ]
  },
  {
   "cell_type": "code",
   "execution_count": 34,
   "metadata": {},
   "outputs": [],
   "source": [
    "driver.find_element(By.XPATH, \"//ul[@role='listbox']/li[1]\").click()"
   ]
  },
  {
   "cell_type": "code",
   "execution_count": 35,
   "metadata": {},
   "outputs": [],
   "source": [
    "driver.find_element(By.CSS_SELECTOR,\"[aria-label='Next']\").click()\n",
    "time.sleep(8)"
   ]
  },
  {
   "cell_type": "code",
   "execution_count": 36,
   "metadata": {},
   "outputs": [],
   "source": [
    "driver.find_element(By.CSS_SELECTOR,\"[aria-label='Publish']\").click()\n",
    "time.sleep(8)"
   ]
  },
  {
   "cell_type": "code",
   "execution_count": 41,
   "metadata": {},
   "outputs": [],
   "source": [
    "driver.find_element(By.XPATH, \"//span[text()='Product tags']/following::textarea[1]\").send_keys(\"sofa\")\n",
    "time.sleep(2)\n",
    "        "
   ]
  },
  {
   "cell_type": "code",
   "execution_count": null,
   "metadata": {},
   "outputs": [],
   "source": []
  }
 ],
 "metadata": {
  "kernelspec": {
   "display_name": "testing-env",
   "language": "python",
   "name": "python3"
  },
  "language_info": {
   "codemirror_mode": {
    "name": "ipython",
    "version": 3
   },
   "file_extension": ".py",
   "mimetype": "text/x-python",
   "name": "python",
   "nbconvert_exporter": "python",
   "pygments_lexer": "ipython3",
   "version": "3.11.11"
  }
 },
 "nbformat": 4,
 "nbformat_minor": 2
}
